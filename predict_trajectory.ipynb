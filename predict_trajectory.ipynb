{
 "cells": [
  {
   "cell_type": "code",
   "execution_count": null,
   "id": "413af17e-cd50-4e3e-a538-915e854dc897",
   "metadata": {},
   "outputs": [],
   "source": [
    "import tensorflow as tf\n",
    "from tensorflow import keras\n",
    "from tensorflow.keras import layers\n",
    "from sklearn.model_selection import train_test_split"
   ]
  },
  {
   "cell_type": "code",
   "execution_count": null,
   "id": "1d6d12dc-42e4-4b92-8438-b4fc6e8da505",
   "metadata": {},
   "outputs": [],
   "source": [
    "def load_data(path):\n",
    "    return (\n",
    "        pd.read_csv(path)\n",
    "        .pivot(index=\"frame\", columns=\"track_id\", values=[\"x\", \"y\"])\n",
    "        .interpolate(method=\"linear\", limit_area=\"inside\", limit_direction=\"both\")\n",
    "    )"
   ]
  },
  {
   "cell_type": "code",
   "execution_count": null,
   "id": "34ef0dbe-ea7b-474a-939b-442481c311ac",
   "metadata": {},
   "outputs": [],
   "source": [
    "def split_sequence(df, n_steps = 30, n_steps_forward = 30):\n",
    "    X, y = [], []\n",
    "    for track_id in df.columns.levels[1]:\n",
    "        track = df.xs(track_id, level=1, axis=1).dropna()\n",
    "        if len(track) >= n_steps + n_steps_forward:\n",
    "            for i in range(len(track) - n_steps - n_steps_forward):\n",
    "                X.append([*track.iloc[i : i + n_steps].to_numpy()])\n",
    "                y.append([*track.iloc[i + n_steps: i + n_steps + n_steps_forward].to_numpy()])\n",
    "\n",
    "    return np.array(X), np.array(y)"
   ]
  },
  {
   "cell_type": "code",
   "execution_count": null,
   "id": "b79dcfbf-b38e-4083-a53d-b6ec264f8b9e",
   "metadata": {},
   "outputs": [],
   "source": [
    "df = pd.read_csv('sequence.csv')\n",
    "grouped_data = df.groupby('track_id')\n",
    "\n",
    "for track_id, group in grouped_data:\n",
    "    output_name = f\"sequence_{track_id}.csv\"\n",
    "    group.to_csv(output_name, index=False)"
   ]
  },
  {
   "cell_type": "code",
   "execution_count": null,
   "id": "4e6c1212-259e-4afe-b76b-16b6135aa60f",
   "metadata": {},
   "outputs": [],
   "source": [
    "def calculate_ade_fde(y_true, y_pred):\n",
    "    ade = np.mean(np.sqrt(np.sum(np.square(y_true - y_pred), axis=-1)))\n",
    "    fde = np.sqrt(np.sum(np.square(y_true[-1, :] - y_pred[-1, :])))\n",
    "    return ade, fde"
   ]
  },
  {
   "cell_type": "code",
   "execution_count": null,
   "id": "aeb89676-1ca9-4671-9b4c-ce7582fb587b",
   "metadata": {},
   "outputs": [],
   "source": [
    "n_steps = 15\n",
    "n_steps_forward = 15\n",
    "n_features = 2\n",
    "num_trials = 5\n",
    "all_ade = []\n",
    "all_fde = []\n",
    "file_name = \"sequence_1.csv\"\n",
    "df = load_data(file_name)"
   ]
  },
  {
   "cell_type": "code",
   "execution_count": null,
   "id": "ca26bbbe-9595-4c4b-9859-09488740cb85",
   "metadata": {},
   "outputs": [],
   "source": [
    "X, y = split_sequence(df, n_steps, n_steps_forward)\n",
    "X = X.reshape((X.shape[0], X.shape[1], n_features))\n",
    "y = y.reshape((y.shape[0], n_steps_forward, n_features))\n",
    "X_train, X_test, y_train, y_test = train_test_split(X, y, test_size=0.2, shuffle=False)"
   ]
  },
  {
   "cell_type": "code",
   "execution_count": null,
   "id": "11071ae1-df4e-43b1-948d-871d94b0edf5",
   "metadata": {},
   "outputs": [],
   "source": [
    "for trial in range(num_trials):\n",
    "    \n",
    "    model = tf.keras.Sequential()\n",
    "    model.add(tf.keras.layers.LSTM(128, activation=\"relu\", input_shape=(n_steps, n_features), return_sequences=True))\n",
    "    model.add(tf.keras.layers.Dense(2))\n",
    "    model.compile(optimizer=tf.keras.optimizers.Adam(0.003), loss=tf.keras.losses.MeanAbsoluteError())\n",
    "    \n",
    "    early_stopping_callback = tf.keras.callbacks.EarlyStopping(\n",
    "                monitor='val_loss',\n",
    "                patience=10,\n",
    "                restore_best_weights=True)\n",
    "    \n",
    "    model.fit(X_train, y_train, epochs=300, batch_size=8, verbose=1,\n",
    "              validation_data=(X_test, y_test), callbacks=[early_stopping_callback])\n",
    "    predicted_values = model.predict(X_test, verbose=1)\n",
    "    \n",
    "    for i in range(len(y_test)):\n",
    "        print(f\"{file_name} - Rzeczywiste (X, Y): {y_test[i]}, Prognozowane (X, Y): {predicted_values[i]}\")\n",
    "        \n",
    "    trial_ade, trail_fde = 0, 0\n",
    "    \n",
    "    for i in range(len(y_test)):\n",
    "        ade, fde = calculate_ade_fde(y_test[i], predicted_values[i])\n",
    "        trial_ade += ade\n",
    "        trial_fde += fde\n",
    "        \n",
    "    avg_ade = trial_ade / len(y_test)\n",
    "    avg_fde = trial_fde / len(y_test)\n",
    "    all_ade.append(avg_ade)\n",
    "    all_fde.append(avg_fde)"
   ]
  },
  {
   "cell_type": "code",
   "execution_count": null,
   "id": "5bf8ce8d-db83-4d5d-ade3-b88eb506cfab",
   "metadata": {},
   "outputs": [],
   "source": [
    "final_avg_ade = sum(all_ade) / num_trials\n",
    "final_avg_fde = sum(all_fde) / num_trials\n",
    "\n",
    "print(f\"Ostateczna Średnia ADE: {final_avg_ade}, Ostateczna Średnia FDE: {final_avg_fde}\")"
   ]
  }
 ],
 "metadata": {
  "kernelspec": {
   "display_name": "Python 3 (ipykernel)",
   "language": "python",
   "name": "python3"
  },
  "language_info": {
   "codemirror_mode": {
    "name": "ipython",
    "version": 3
   },
   "file_extension": ".py",
   "mimetype": "text/x-python",
   "name": "python",
   "nbconvert_exporter": "python",
   "pygments_lexer": "ipython3",
   "version": "3.10.4"
  }
 },
 "nbformat": 4,
 "nbformat_minor": 5
}
