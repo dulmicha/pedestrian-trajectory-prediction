{
 "cells": [
  {
   "cell_type": "markdown",
   "metadata": {},
   "source": [
    "## Downloading source videos"
   ]
  },
  {
   "cell_type": "markdown",
   "metadata": {},
   "source": [
    "Videos obtained from: https://jelenia-gora.webcamera.pl/"
   ]
  },
  {
   "cell_type": "code",
   "execution_count": null,
   "metadata": {},
   "outputs": [],
   "source": [
    "import os\n",
    "import subprocess\n",
    "import time"
   ]
  },
  {
   "cell_type": "code",
   "execution_count": null,
   "metadata": {},
   "outputs": [],
   "source": [
    "def download_video(record_duration=10):\n",
    "    stream_url = \"https://hoktastream4.webcamera.pl/jeleniagora_cam_73a10c/jeleniagora_cam_73a10c.stream/playlist.m3u8\"\n",
    "\n",
    "    output_file = f\"data/videos/{time.strftime('%Y%m%d-%H%M%S')}_{record_duration}s.mp4\"\n",
    "\n",
    "    ffmpeg_command = [\n",
    "        \"ffmpeg\",\n",
    "        \"-i\",\n",
    "        stream_url,\n",
    "        \"-t\",\n",
    "        str(record_duration),\n",
    "        \"-filter:v\",\n",
    "        \"crop=700:600:350:400, fps=20\",\n",
    "        output_file,\n",
    "    ]\n",
    "\n",
    "    try:\n",
    "        subprocess.run(ffmpeg_command, timeout=record_duration + 10, check=True)\n",
    "        print(f\"Recording completed. The video is saved as {output_file}.\")\n",
    "    except Exception as e:\n",
    "        print(f\"Recording failed. {e}\")\n",
    "        os.remove(output_file)"
   ]
  }
 ],
 "metadata": {
  "language_info": {
   "name": "python"
  }
 },
 "nbformat": 4,
 "nbformat_minor": 2
}
